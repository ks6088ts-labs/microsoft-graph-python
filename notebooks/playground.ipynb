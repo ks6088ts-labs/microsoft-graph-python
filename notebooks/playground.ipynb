{
 "cells": [
  {
   "cell_type": "code",
   "execution_count": 1,
   "id": "d48e13d9-564b-4c3d-be48-67e22c5306e6",
   "metadata": {},
   "outputs": [],
   "source": [
    "import glob\n",
    "import os\n",
    "\n",
    "import pandas as pd"
   ]
  },
  {
   "cell_type": "code",
   "execution_count": 2,
   "id": "ca295016-0005-41ec-bea8-3678910acfa3",
   "metadata": {},
   "outputs": [],
   "source": [
    "def list_log_files_glob(path):\n",
    "    log_files = glob.glob(os.path.join(path, \"**\", \"*.log\"), recursive=True)\n",
    "    return log_files\n",
    "\n",
    "\n",
    "files = list_log_files_glob(\"../logs/\")"
   ]
  },
  {
   "cell_type": "code",
   "execution_count": 3,
   "id": "52dd92ac-6eb7-445d-9f8e-1e1cbfcd7dd4",
   "metadata": {},
   "outputs": [
    {
     "name": "stderr",
     "output_type": "stream",
     "text": [
      "/var/folders/63/yltfh5qx1ql1kspvg45xjl9c0000gn/T/ipykernel_29510/3937105484.py:6: PerformanceWarning: Adding/subtracting object-dtype array to DatetimeArray not vectorized.\n",
      "  df[\"elapsed_time\"] = df[\"fastest_reply_createdDateTime\"] - df[\"createdDateTime\"]\n"
     ]
    }
   ],
   "source": [
    "# CSV ファイルのパスを指定して関数を実行\n",
    "for file in files:\n",
    "    # print(file)\n",
    "    try:\n",
    "        df = pd.read_csv(filepath_or_buffer=file, parse_dates=[\"createdDateTime\", \"fastest_reply_createdDateTime\"])\n",
    "        df[\"elapsed_time\"] = df[\"fastest_reply_createdDateTime\"] - df[\"createdDateTime\"]\n",
    "    except Exception:\n",
    "        continue\n",
    "    # print(df[[\"elapsed_time\"]])\n",
    "    df.to_csv(f\"../logs/{file}.gen.csv\")"
   ]
  },
  {
   "cell_type": "code",
   "execution_count": null,
   "id": "ed968e92-056e-4c77-8e86-26fadc2f5914",
   "metadata": {},
   "outputs": [],
   "source": []
  }
 ],
 "metadata": {
  "kernelspec": {
   "display_name": "Python 3 (ipykernel)",
   "language": "python",
   "name": "python3"
  },
  "language_info": {
   "codemirror_mode": {
    "name": "ipython",
    "version": 3
   },
   "file_extension": ".py",
   "mimetype": "text/x-python",
   "name": "python",
   "nbconvert_exporter": "python",
   "pygments_lexer": "ipython3",
   "version": "3.12.9"
  }
 },
 "nbformat": 4,
 "nbformat_minor": 5
}
